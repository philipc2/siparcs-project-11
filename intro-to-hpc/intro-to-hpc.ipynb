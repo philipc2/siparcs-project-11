{
 "cells": [
  {
   "cell_type": "code",
   "execution_count": 3,
   "id": "86bf5a22-277d-4204-a677-28bc1d07a606",
   "metadata": {},
   "outputs": [],
   "source": [
    "import numpy as np \n",
    "import dask as da \n",
    "import numba"
   ]
  },
  {
   "cell_type": "code",
   "execution_count": 4,
   "id": "0a6ecfc3-6948-42b4-b661-03ba255bca93",
   "metadata": {},
   "outputs": [
    {
     "data": {
      "text/plain": [
       "'0.59.1'"
      ]
     },
     "execution_count": 4,
     "metadata": {},
     "output_type": "execute_result"
    }
   ],
   "source": [
    "# Prints out version of package\n",
    "numba.__version__"
   ]
  },
  {
   "cell_type": "code",
   "execution_count": 9,
   "id": "1c73d55d-8baa-41d6-91b3-6df89660eb28",
   "metadata": {},
   "outputs": [
    {
     "data": {
      "text/plain": [
       "10024"
      ]
     },
     "execution_count": 9,
     "metadata": {},
     "output_type": "execute_result"
    }
   ],
   "source": [
    "a = 10000\n",
    "b = 24\n",
    "np.sum([a,b])"
   ]
  }
 ],
 "metadata": {
  "kernelspec": {
   "display_name": "Python [conda env:.conda-intro-to-hpc]",
   "language": "python",
   "name": "conda-env-.conda-intro-to-hpc-py"
  },
  "language_info": {
   "codemirror_mode": {
    "name": "ipython",
    "version": 3
   },
   "file_extension": ".py",
   "mimetype": "text/x-python",
   "name": "python",
   "nbconvert_exporter": "python",
   "pygments_lexer": "ipython3",
   "version": "3.12.3"
  }
 },
 "nbformat": 4,
 "nbformat_minor": 5
}
